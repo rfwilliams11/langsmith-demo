{
  "cells": [
    {
      "cell_type": "markdown",
      "id": "demo-title",
      "metadata": {},
      "source": [
        "# LangSmith Demo 🦜🛠️\n",
        "\n",
        "LangSmith is a platform for building production-grade LLM applications. It allows you to closely monitor and evaluate your application, so you can ship quickly and with confidence. Some highlights:\n",
        "- Can run without LangChain or LangGraph\n",
        "- Based on open-source OpenTelemetry standard\n",
        "- Adds no latency to your application\n",
        "- Hybrid and self-hosted deployment options are available\n",
        "- API-first to complement existing DevOps investments"
      ]
    },
    {
      "cell_type": "markdown",
      "id": "setup-section",
      "metadata": {},
      "source": [
        "## RAG Application\n",
        "\n",
        "![Simple RAG](./images/simple_rag.png)"
      ]
    },
    {
      "cell_type": "markdown",
      "id": "tracing-section",
      "metadata": {},
      "source": [
        "### Tracing\n",
        "\n",
        "LangSmith provides comprehensive tracing based on the open-source OpenTelemetry standard."
      ]
    },
    {
      "cell_type": "code",
      "execution_count": null,
      "id": "basic-rag-query",
      "metadata": {},
      "outputs": [],
      "source": [
        "from app import langsmith_rag\n",
        "\n",
        "question = \"What is LangSmith used for?\"\n",
        "answer = langsmith_rag(question)\n",
        "print(f\"Answer: {answer}\")"
      ]
    },
    {
      "cell_type": "markdown",
      "id": "playground-section",
      "metadata": {},
      "source": [
        "### Prompts & Playground\n",
        "\n",
        "The Playground is a collaborative environment that enables prompt iteration and optimization."
      ]
    },
    {
      "cell_type": "code",
      "execution_count": null,
      "id": "prompt-demo",
      "metadata": {},
      "outputs": [],
      "source": [
        "from app import langsmith_rag\n",
        "\n",
        "questions = [\n",
        "    \"How do I set up LangSmith tracing?\",\n",
        "    \"What are the key benefits of using LangSmith?\",\n",
        "    \"Can LangSmith work without LangChain?\"\n",
        "]\n",
        "\n",
        "for q in questions:\n",
        "    answer = langsmith_rag(q)\n",
        "    print(f\"Q: {q}\")\n",
        "    print(f\"A: {answer}\\n\")"
      ]
    },
    {
      "cell_type": "markdown",
      "id": "datasets-section",
      "metadata": {},
      "source": [
        "### Datasets & Evaluations\n",
        "\n",
        "Datasets are collections of examples containing inputs, outputs, and reference outputs, used to perform consistent evaluations of applications."
      ]
    },
    {
      "cell_type": "code",
      "execution_count": null,
      "id": "evaluation-setup",
      "metadata": {},
      "outputs": [],
      "source": [
        "from langsmith import Client\n",
        "\n",
        "golden_dataset = [\n",
        "(\"How do I set up tracing to LangSmith if I'm using LangChain?\", \"To set up tracing to LangSmith while using LangChain, you need to set the environment variable `LANGSMITH_TRACING` to 'true'. Additionally, you must set the `LANGSMITH_API_KEY` environment variable to your API key. By default, traces will be logged to a project named \\\"default.\\\"\"),\n",
        "(\"How can I trace with the @traceable decorator?\", \"To trace with the @traceable decorator in Python, simply decorate any function you want to log traces for by adding `@traceable` above the function definition. Ensure that the LANGSMITH_TRACING environment variable is set to 'true' to enable tracing, and also set the LANGSMITH_API_KEY environment variable with your API key. By default, traces will be logged to a project named \\\"default,\\\" but you can configure it to log to a different project if needed.\"),\n",
        "(\"How do I pass metadata in with @traceable?\", \"You can pass metadata with the @traceable decorator by specifying arbitrary key-value pairs as arguments. This allows you to associate additional information, such as the execution environment or user details, with your traces. For more detailed instructions, refer to the LangSmith documentation on adding metadata and tags.\"),\n",
        "(\"What is LangSmith used for in three sentences?\", \"LangSmith is a platform designed for the development, monitoring, and testing of LLM applications. It enables users to collect and analyze unstructured data, debug issues, and create datasets for testing and evaluation. The tool supports various workflows throughout the application development lifecycle, enhancing the overall performance and reliability of LLM applications.\"),\n",
        "(\"What testing capabilities does LangSmith have?\", \"LangSmith offers capabilities for creating datasets of inputs and reference outputs to run tests on LLM applications, supporting a test-driven approach. It allows for bulk uploads of test cases, on-the-fly creation, and exporting from application traces. Additionally, LangSmith facilitates custom evaluations to score test results, enhancing the testing process.\"),\n",
        "(\"Does LangSmith support online evaluation?\", \"Yes, LangSmith supports online evaluation as a feature. It allows you to configure a sample of runs from production to be evaluated, providing feedback on those runs. You can use either custom code or an LLM as a judge for the evaluations.\"),\n",
        "(\"Does LangSmith support offline evaluation?\", \"Yes, LangSmith supports offline evaluation through its evaluation how-to guides and features for managing datasets. Users can manage datasets for offline evaluations and run various types of evaluations, including unit testing and auto-evaluation. This allows for comprehensive testing and improvement of LLM applications.\"),\n",
        "(\"Can LangSmith be used for finetuning and model training?\", \"Yes, LangSmith can be used for fine-tuning and model training. It allows you to capture run traces from your deployment, query and filter this data, and convert it into a format suitable for fine-tuning models. Additionally, you can create training datasets to keep track of the data used for model training.\"),\n",
        "(\"Can LangSmith be used to evaluate agents?\", \"Yes, LangSmith can be used to evaluate agents. It provides various evaluation strategies, including assessing the agent's final response, evaluating individual steps, and analyzing the trajectory of tool calls. These methods help ensure the effectiveness of LLM applications.\"),\n",
        "(\"How do I create user feedback with the LangSmith sdk?\", \"To create user feedback with the LangSmith SDK, you first need to run your application and obtain the `run_id`. Then, you can use the `create_feedback` method, providing the `run_id`, a feedback key, a score, and an optional comment. For example, in Python, it would look like this: `client.create_feedback(run_id, key=\\\"feedback-key\\\", score=1.0, comment=\\\"comment\\\")`.\"),\n",
        "]\n",
        "\n",
        "client = Client()\n",
        "# TODO: Create dataset and fill in dataset id\n",
        "dataset_id = \"\"\n",
        "\n",
        "inputs = [{\"question\": input_prompt} for input_prompt, _ in golden_dataset]\n",
        "outputs = [{\"output\": output_answer} for _, output_answer in golden_dataset]\n",
        "\n",
        "client.create_examples(\n",
        "  inputs=inputs,\n",
        "  outputs=outputs,\n",
        "  dataset_id=dataset_id,\n",
        ")"
      ]
    },
    {
      "cell_type": "markdown",
      "id": "evaluators-demo",
      "metadata": {},
      "source": [
        "### Custom Evaluators\n",
        "\n",
        "LangSmith supports both *LLM-as-Judge* evaluators and custom *code* evaluators to provide feedback on application output. Examples:\n",
        "- Verify if an answer is grounded in the provided documents\n",
        "- Score the perceived helpfulness of an answer from 1-10\n",
        "- Validate that an output contains valid Python\n",
        "- For an email assistant, use regex to check that the correct email signature is used"
      ]
    },
    {
      "cell_type": "markdown",
      "id": "3252df0b",
      "metadata": {},
      "source": [
        "#### LLM-as-Judge evaluator"
      ]
    },
    {
      "cell_type": "code",
      "execution_count": null,
      "id": "e38b10ef",
      "metadata": {},
      "outputs": [],
      "source": [
        "from langchain_core.messages import HumanMessage\n",
        "from langchain_openai import ChatOpenAI\n",
        "from pydantic import BaseModel, Field\n",
        "\n",
        "class Similarity_Score(BaseModel):\n",
        "    similarity_score: int = Field(description=\"Similarity score between 1 and 10, where 1 means unrelated and 10 means identical.\")\n",
        "\n",
        "def similarity(inputs: dict, outputs: dict, reference_outputs: dict) -> dict:\n",
        "    prompt = \"\"\"\n",
        "    You are a similarity evaluator comparing the meaning of two response outputs to an input.\n",
        "    The reference_output is the correct answer to the input. The output is what we want to grade to make sure it is similar to the reference_output.\n",
        "    Your task is to assign a score 1-10 based on the following rubric:\n",
        "\n",
        "    <Rubric>\n",
        "        When scoring, you should reward:\n",
        "        - When the output and the reference_output are semantically similar\n",
        "        - When the output and the reference_output are logically similar\n",
        "\n",
        "        When scoring, you should penalize:\n",
        "        - If the output contradicts the reference_output\n",
        "        - If the output is logically inconsistent from the reference_output\n",
        "        - If the output is off topic from the input and reference_output\n",
        "    </Rubric>\n",
        "\n",
        "    <Instructions>\n",
        "        - Carefully read the input, output, and reference_output\n",
        "        - Use the reference_output to determine if output contains errors or logical inconsistencies \n",
        "    </Instructions>\n",
        "\n",
        "    <Reminder>\n",
        "        The reference_output is the correct answer to the input and we want to evaluate the output.\n",
        "    </Reminder>\n",
        "\n",
        "    <input>\n",
        "        {}\n",
        "    </input>\n",
        "\n",
        "    <output>\n",
        "        {}\n",
        "    </output>\n",
        "\n",
        "    Use the reference outputs below to help you evaluate the correctness of the response:\n",
        "    <reference_outputs>\n",
        "        {}\n",
        "    </reference_outputs>\n",
        "    \"\"\".format(inputs[\"question\"], outputs[\"output\"], reference_outputs[\"output\"])\n",
        "    structured_llm = ChatOpenAI(model=\"gpt-4o-mini\", temperature=0).with_structured_output(Similarity_Score)\n",
        "    generation = structured_llm.invoke([HumanMessage(content=prompt)])\n",
        "    return {\"key\": \"similarity\", \"score\": generation.similarity_score}"
      ]
    },
    {
      "cell_type": "markdown",
      "id": "f686eaca",
      "metadata": {},
      "source": [
        "#### Code Evaluator"
      ]
    },
    {
      "cell_type": "code",
      "execution_count": null,
      "id": "custom-evaluators",
      "metadata": {},
      "outputs": [],
      "source": [
        "def is_concise_enough(reference_outputs: dict, outputs: dict) -> dict:\n",
        "    score = len(outputs[\"output\"]) < 1.25 * len(reference_outputs[\"output\"])\n",
        "    return {\"key\": \"is_concise\", \"score\": int(score)}"
      ]
    },
    {
      "cell_type": "markdown",
      "id": "3eb84e90",
      "metadata": {},
      "source": [
        "#### Run Evaluators"
      ]
    },
    {
      "cell_type": "code",
      "execution_count": null,
      "id": "1a15e7fc",
      "metadata": {},
      "outputs": [],
      "source": [
        "from langsmith import evaluate\n",
        "from app import langsmith_rag\n",
        "\n",
        "# TODO add dataset name and run\n",
        "dataset_name = \"\"\n",
        "\n",
        "def target_function(inputs: dict):\n",
        "    return langsmith_rag(inputs[\"question\"])\n",
        "\n",
        "evaluate( \n",
        "    target_function,\n",
        "    data=dataset_name,\n",
        "    evaluators=[is_concise_enough, similarity],\n",
        "    experiment_prefix=\"ls-demo-1\"\n",
        ")"
      ]
    },
    {
      "cell_type": "markdown",
      "id": "annotation-section",
      "metadata": {},
      "source": [
        "### Annotation Queues\n",
        "\n",
        "Organize and group model runs to streamline human annotation and feedback, providing annotators with clear instructions and feedback keys."
      ]
    },
    {
      "cell_type": "code",
      "execution_count": null,
      "id": "annotation-examples",
      "metadata": {},
      "outputs": [],
      "source": [
        "from app import langsmith_rag\n",
        "\n",
        "# Create examples to add to annotation queue\n",
        "annotation_questions = [\n",
        "    \"What are the pricing tiers for LangSmith?\",\n",
        "    \"How does LangSmith compare to other LLM monitoring tools?\",\n",
        "    \"Can I use LangSmith for fine-tuning models?\",\n",
        "    \"What are hosting options for LangSmith?\"\n",
        "]\n",
        "\n",
        "for question in annotation_questions:\n",
        "    answer = langsmith_rag(question)\n",
        "    print(f\"Question: {question}\")\n",
        "    print(f\"Answer: {answer}\\n\")"
      ]
    },
    {
      "cell_type": "markdown",
      "id": "automations-section",
      "metadata": {},
      "source": [
        "### Online Evaluations & Automations\n",
        "\n",
        "Automations run on live production interactions to provide continuous monitoring. Examples:\n",
        "- Sample all runs with low frequency and add to annotation queue for human spot checking\n",
        "- Add traces with negative feedback to annotation queue for diagnosis\n",
        "- Add all traces with positive feedback to a golden dataset\n",
        "- For all traces with an error, alert PagerDuty or create Jira ticket"
      ]
    },
    {
      "cell_type": "code",
      "execution_count": null,
      "id": "production-simulation",
      "metadata": {},
      "outputs": [],
      "source": [
        "from app import langsmith_rag\n",
        "\n",
        "production_questions = [\n",
        "    \"How do I get started with LangSmith?\",\n",
        "    \"How can I monitor my LLM costs?\",\n",
        "    \"How do I export my data from LangSmith?\",\n",
        "    \"Can I use custom models with LangSmith?\"\n",
        "]\n",
        "\n",
        "for question in production_questions:\n",
        "    \n",
        "    answer = langsmith_rag(question)\n",
        "        \n",
        "    print(f\"Question: {question}\")\n",
        "    print(f\"Answer: {answer}\\n\")"
      ]
    },
    {
      "cell_type": "markdown",
      "id": "dashboards-section",
      "metadata": {},
      "source": [
        "### Dashboards & Alerts\n",
        "\n",
        "LangSmith provides both dashboards and alerts for real-time monitoring:\n",
        "\n",
        "**Pre-built Dashboards**:\n",
        "- Request volume and latency\n",
        "- Cost tracking by model\n",
        "- Error rates and types\n",
        "- Token usage patterns\n",
        "\n",
        "**Custom Dashboards**:\n",
        "- Multi-project views\n",
        "- Custom metrics and filters\n",
        "- Business-specific KPIs\n",
        "\n",
        "**Alerts**\n",
        "- Based on errors, feedback, or latency\n",
        "- PagerDuty or Webhook integrations"
      ]
    }
  ],
  "metadata": {
    "kernelspec": {
      "display_name": "ls-demo (3.11.1)",
      "language": "python",
      "name": "python3"
    },
    "language_info": {
      "codemirror_mode": {
        "name": "ipython",
        "version": 3
      },
      "file_extension": ".py",
      "mimetype": "text/x-python",
      "name": "python",
      "nbconvert_exporter": "python",
      "pygments_lexer": "ipython3",
      "version": "3.11.1"
    }
  },
  "nbformat": 4,
  "nbformat_minor": 5
}
